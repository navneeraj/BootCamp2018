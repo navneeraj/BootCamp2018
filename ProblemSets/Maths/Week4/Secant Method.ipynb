{
 "cells": [
  {
   "cell_type": "code",
   "execution_count": 49,
   "metadata": {},
   "outputs": [
    {
     "name": "stdout",
     "output_type": "stream",
     "text": [
      "(1000011,)\n",
      "0.7808840530880757\n"
     ]
    },
    {
     "data": {
      "text/plain": [
       "[<matplotlib.lines.Line2D at 0x1bd18016588>]"
      ]
     },
     "execution_count": 49,
     "metadata": {},
     "output_type": "execute_result"
    },
    {
     "data": {
      "image/png": "[encoded data removed]",
      "text/plain": [
       "<Figure size 432x288 with 1 Axes>"
      ]
     },
     "metadata": {},
     "output_type": "display_data"
    }
   ],
   "source": [
    "import numpy as np\n",
    "import matplotlib.pyplot as plt\n",
    "\n",
    "def func(x):\n",
    "    return x**4 - 14*x**3 + 60*x**2 - 70*x\n",
    "\n",
    "def derive(x):\n",
    "#     h = .0000001\n",
    "#     return (func(y +h)-func(y))/h\n",
    "        return 4*x**3 - 42*x**2 + 120*x -70\n",
    "\n",
    "maxit = 1e6\n",
    "\n",
    "def secant(x0,x1,eps):\n",
    "    dist = 1\n",
    "    it = 1\n",
    "    val = np.zeros(int(maxit))\n",
    "    while dist > eps and  it < maxit:\n",
    "        x =  x1 - derive(x1)*((x1-x0)/(derive(x1)- derive(x0)))\n",
    "        val = np.append(val,x)\n",
    "        x0 = x1\n",
    "        x1 = x\n",
    "        it = it+1\n",
    "        dist =  np.abs(x1-x0)/np.abs(x0)\n",
    "    return val\n",
    "m = secant(0,2,1e-14)\n",
    "print(m.shape)\n",
    "print(m[-1])\n",
    "xvals =  np.linspace(-1,5,int(maxit))\n",
    "plt.plot(xvals,func(xvals),'r')\n",
    "plt.plot(m, func(m),'g.')"
   ]
  }
 ],
 "metadata": {
  "kernelspec": {
   "display_name": "Python 3",
   "language": "python",
   "name": "python3"
  },
  "language_info": {
   "codemirror_mode": {
    "name": "ipython",
    "version": 3
   },
   "file_extension": ".py",
   "mimetype": "text/x-python",
   "name": "python",
   "nbconvert_exporter": "python",
   "pygments_lexer": "ipython3",
   "version": "3.6.5"
  }
 },
 "nbformat": 4,
 "nbformat_minor": 2
}
