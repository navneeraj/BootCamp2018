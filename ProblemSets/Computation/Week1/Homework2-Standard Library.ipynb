{
 "cells": [
  {
   "cell_type": "code",
   "execution_count": 2,
   "metadata": {},
   "outputs": [
    {
     "data": {
      "text/plain": [
       "(1, 9, 5.5)"
      ]
     },
     "execution_count": 2,
     "metadata": {},
     "output_type": "execute_result"
    }
   ],
   "source": [
    "#Problem 1\n",
    "A = [1,5,7,9]\n",
    "\n",
    "def problem_2_1(A):\n",
    "    return ((min(A),max(A),sum(A)/len(A)))\n",
    "\n",
    "problem_2_1(A)"
   ]
  },
  {
   "cell_type": "code",
   "execution_count": 8,
   "metadata": {},
   "outputs": [
    {
     "name": "stdout",
     "output_type": "stream",
     "text": [
      "integers are  mutable: False\n",
      "integers are  mutable: False\n",
      "integers are  mutable:  True\n",
      "integers are  mutable:  False\n",
      "integers are  mutable: True\n"
     ]
    },
    {
     "data": {
      "text/plain": [
       "{1, 2, 3, 97, 'a'}"
      ]
     },
     "execution_count": 8,
     "metadata": {},
     "output_type": "execute_result"
    }
   ],
   "source": [
    "# Problem 2\n",
    "int1 = int(10)\n",
    "int2 = int1\n",
    "int2 = int2 +10\n",
    "print( \"integers are  mutable: \" + str(int1 == int2))\n",
    "\n",
    "str1 = str(\"abh\")\n",
    "str2 = str1 \n",
    "str2 = str2 + \"abc\"\n",
    "print( \"integers are  mutable: \" + str(str1 == str2))\n",
    "\n",
    "list1 = [1,2,3,4]\n",
    "list2 = list1\n",
    "list2[2] = 9\n",
    "print( \"integers are  mutable:  \" + str(list1 ==  list2))\n",
    "\n",
    "\n",
    "tup1 = (1,2,3)\n",
    "tup2 = tup1\n",
    "tup2 += (99,)\n",
    "print( \"integers are  mutable:  \" + str(tup1 == tup2))\n",
    "\n",
    "set1 = {1,2,3,\"a\"}\n",
    "set2 = set1\n",
    "set2.add (97)\n",
    "print( \"integers are  mutable: \" + str(set1 == set2))\n",
    "\n"
   ]
  },
  {
   "cell_type": "code",
   "execution_count": 10,
   "metadata": {},
   "outputs": [
    {
     "data": {
      "text/plain": [
       "13.0"
      ]
     },
     "execution_count": 10,
     "metadata": {},
     "output_type": "execute_result"
    }
   ],
   "source": [
    "#Problem 3\n",
    "import calculator as calc\n",
    "\n",
    "def hyp(a,b):\n",
    "    x=  calc.sum_1(calc.mult_1(a,a),calc.mult_1(b,b))\n",
    "    hyp = calc.sqrt(x)\n",
    "    return hyp\n",
    "\n",
    "hyp(12,5)"
   ]
  },
  {
   "cell_type": "markdown",
   "metadata": {},
   "source": [
    "See Python file for problem 5"
   ]
  },
  {
   "cell_type": "code",
   "execution_count": 12,
   "metadata": {},
   "outputs": [
    {
     "name": "stdout",
     "output_type": "stream",
     "text": [
      "[[()], [(1,), (2,), (3,)], [(1, 2), (1, 3), (2, 3)], [(1, 2, 3)]]\n"
     ]
    },
    {
     "data": {
      "text/plain": [
       "[set(), {1}, {2}, {3}, {1, 2}, {1, 3}, {2, 3}, {1, 2, 3}]"
      ]
     },
     "execution_count": 12,
     "metadata": {},
     "output_type": "execute_result"
    }
   ],
   "source": [
    "#Problem 4\n",
    "from itertools import combinations, chain\n",
    "A = {1,2,3}\n",
    "\n",
    "def problem_2_4(A):\n",
    "    power_A = []\n",
    "    for i in range(len(A)+1):\n",
    "        power_A.append(list(combinations(A,i)))\n",
    "    print(power_A)\n",
    "    C = list(chain(*power_A))\n",
    "    M=[] \n",
    "    for j in range(len(C)):\n",
    "        M.append(set(C[j]))\n",
    "    return M\n",
    "\n",
    "problem_2_4(A)"
   ]
  }
 ],
 "metadata": {
  "kernelspec": {
   "display_name": "Python 3",
   "language": "python",
   "name": "python3"
  },
  "language_info": {
   "codemirror_mode": {
    "name": "ipython",
    "version": 3
   },
   "file_extension": ".py",
   "mimetype": "text/x-python",
   "name": "python",
   "nbconvert_exporter": "python",
   "pygments_lexer": "ipython3",
   "version": "3.6.5"
  }
 },
 "nbformat": 4,
 "nbformat_minor": 2
}
