{
 "cells": [
  {
   "cell_type": "code",
   "execution_count": 1,
   "metadata": {},
   "outputs": [
    {
     "data": {
      "text/plain": [
       "array([[ 37,  14, -32, -10],\n",
       "       [-54,  -7,  58,  65]])"
      ]
     },
     "execution_count": 1,
     "metadata": {},
     "output_type": "execute_result"
    }
   ],
   "source": [
    "# Problem 1\n",
    "import numpy as np\n",
    "def mat_mult():\n",
    "    A1 = [3, -1, 4]\n",
    "    A2 = [1, 5, -9]\n",
    "    A = np.array([A1,A2])\n",
    "    B1 = [2, 6,-5, 3]\n",
    "    B2 = [5, -8,9, 7]\n",
    "    B3 = [9, -3,-2,-3]\n",
    "    B = np.array([B1, B2, B3])\n",
    "    return A@B\n",
    "\n",
    "mat_mult()\n"
   ]
  },
  {
   "cell_type": "code",
   "execution_count": 2,
   "metadata": {},
   "outputs": [
    {
     "data": {
      "text/plain": [
       "array([[0, 0, 0],\n",
       "       [0, 0, 0],\n",
       "       [0, 0, 0]])"
      ]
     },
     "execution_count": 2,
     "metadata": {},
     "output_type": "execute_result"
    }
   ],
   "source": [
    "# Problem 2\n",
    "def cayley():\n",
    "    A1 = [3, 1, 4]\n",
    "    A2 = [1, 5, 9]\n",
    "    A3 = [-5, 3, 1]\n",
    "    A = np.array([A1,A2,A3])\n",
    "    return -1*((A@A)@A) + 9*(A@A) - 15*(A)\n",
    "\n",
    "cayley()\n"
   ]
  },
  {
   "cell_type": "code",
   "execution_count": 4,
   "metadata": {},
   "outputs": [
    {
     "data": {
      "text/plain": [
       "array([[ -7,  -8,  -3,   8,  25,  48,  77],\n",
       "       [ -6, -12, -12,  -6,   6,  24,  48],\n",
       "       [ -5, -10, -15, -14,  -7,   6,  25],\n",
       "       [ -4,  -8, -12, -16, -14,  -6,   8],\n",
       "       [ -3,  -6,  -9, -12, -15, -12,  -3],\n",
       "       [ -2,  -4,  -6,  -8, -10, -12,  -8],\n",
       "       [ -1,  -2,  -3,  -4,  -5,  -6,  -7]], dtype=int64)"
      ]
     },
     "execution_count": 4,
     "metadata": {},
     "output_type": "execute_result"
    }
   ],
   "source": [
    "#problem 3\n",
    "def mat_create():\n",
    "    A = np.triu(np.ones(7))\n",
    "    B = 5*np.triu(np.ones(7)) -1 *np.tril(np.ones(7)) -5*np.eye(7)\n",
    "    C= A@B@A\n",
    "    return C.astype(np.int64)\n",
    "mat_create()"
   ]
  },
  {
   "cell_type": "code",
   "execution_count": 5,
   "metadata": {},
   "outputs": [
    {
     "data": {
      "text/plain": [
       "array([ 0,  7,  9,  0, 10,  0,  0])"
      ]
     },
     "execution_count": 5,
     "metadata": {},
     "output_type": "execute_result"
    }
   ],
   "source": [
    "#problem 4\n",
    "\n",
    "A= np.array([-3,7,9,-1,10,-1,-11])\n",
    "def fancy_index(A):\n",
    "    A[A<0] =0\n",
    "    return A\n",
    "\n",
    "fancy_index(A)"
   ]
  },
  {
   "cell_type": "code",
   "execution_count": 6,
   "metadata": {},
   "outputs": [
    {
     "data": {
      "text/plain": [
       "array([[ 0.,  0.,  0.,  0.,  1.,  1.,  0.,  0.],\n",
       "       [ 0.,  0.,  0.,  2.,  3.,  0.,  1.,  0.],\n",
       "       [ 0.,  0.,  0.,  4.,  5.,  0.,  0.,  1.],\n",
       "       [ 0.,  2.,  4.,  0.,  0.,  0.,  0.,  0.],\n",
       "       [ 1.,  3.,  5.,  0.,  0.,  0.,  0.,  0.],\n",
       "       [ 3.,  0.,  0.,  0.,  0., -2., -0., -0.],\n",
       "       [ 3.,  3.,  0.,  0.,  0., -0., -2., -0.],\n",
       "       [ 3.,  3.,  3.,  0.,  0., -0., -0., -2.]])"
      ]
     },
     "execution_count": 6,
     "metadata": {},
     "output_type": "execute_result"
    }
   ],
   "source": [
    "#problem 5\n",
    "def mat_stack():\n",
    "    A = np.array([[0,2,4],[1,3,5]])\n",
    "    B = np.tril(3*np.ones(3))\n",
    "    C = -2*np.eye(3)\n",
    "    z1 = np.zeros((3,3))\n",
    "    z2 = np.zeros((2,2))\n",
    "    z3 = np.zeros((2,3))\n",
    "    z4 = np.zeros((3,2))\n",
    "    st1 = np.hstack((z1,A.T,np.eye(3)))\n",
    "    st2 = np.hstack((A,z2,z3))\n",
    "    st3 =  np.hstack((B,z4,C))\n",
    "    st = np.vstack((st1,st2,st3))\n",
    "    return st\n",
    "\n",
    "mat_stack()"
   ]
  },
  {
   "cell_type": "code",
   "execution_count": 8,
   "metadata": {},
   "outputs": [
    {
     "data": {
      "text/plain": [
       "array([[0.        , 0.16666667, 0.33333333, 0.5       ],\n",
       "       [0.18181818, 0.22727273, 0.27272727, 0.31818182],\n",
       "       [0.21052632, 0.23684211, 0.26315789, 0.28947368],\n",
       "       [0.22222222, 0.24074074, 0.25925926, 0.27777778]])"
      ]
     },
     "execution_count": 8,
     "metadata": {},
     "output_type": "execute_result"
    }
   ],
   "source": [
    "#problem 6\n",
    "A = np.arange(16).reshape((4,4))\n",
    "def row_stoch(A):\n",
    "    row_sum = A.sum(axis=1)\n",
    "    A_mark =  A.T/row_sum\n",
    "    return A_mark.T\n",
    "\n",
    "\n",
    "row_stoch(A)\n"
   ]
  },
  {
   "cell_type": "markdown",
   "metadata": {},
   "source": [
    "Problem 7"
   ]
  },
  {
   "cell_type": "code",
   "execution_count": 4,
   "metadata": {},
   "outputs": [
    {
     "name": "stdout",
     "output_type": "stream",
     "text": [
      "70600674\n"
     ]
    }
   ],
   "source": [
    "# problem 7\n",
    "def grid_max():\n",
    "grid = np.load( \"C:/Users/ministry of finance/Google Drive/OSM Bootcamp 2018/BootCamp2018/Computation/Wk1_PyIntro/grid.npy\")\n",
    "np.max(grid[:,:-3] * grid[:,1:-2] * grid[:,2:-1] * grid[:,3:])\n",
    "max = 0\n",
    "for i in range(20):\n",
    "    for j in range(16):\n",
    "        mult = grid[i,j]*grid[i,j+1]*grid[i,j+2]*grid[i,j+3]\n",
    "        if mult>max:max = mult\n",
    "        mult =  grid[j,i]*grid[j+1,i]*grid[j+2,i]*grid[j+3,i]\n",
    "        if mult>max: max = mult\n",
    "\n",
    "for i in range(16):\n",
    "    for j in range(16):\n",
    "        mult = grid[i,j]*grid[i+1,j+1]*grid[i+2,j+2]*grid[i+3,j+3]\n",
    "        if mult>max: max = mult\n",
    "                \n",
    "for i in range(3,20):\n",
    "    for j in range(16): \n",
    "        mult =  grid[i,j]*grid[i-1,j+1]*grid[i-2,j+2]*grid[i-3,j+3]\n",
    "        if mult>max:max = mult\n",
    "return max\n",
    "            "
   ]
  },
  {
   "cell_type": "code",
   "execution_count": 14,
   "metadata": {},
   "outputs": [
    {
     "data": {
      "text/plain": [
       "70600674"
      ]
     },
     "execution_count": 14,
     "metadata": {},
     "output_type": "execute_result"
    }
   ],
   "source": [
    "import numpy as np\n",
    "\n",
    "def grid_max():\n",
    "grid = np.load(\"grid.npy\")\n",
    "    horizontal = np.max(grid[:,:-3] * grid[:,1:-2] * grid[:,2:-1] * grid[:,3:])\n",
    "    vertical = np.max(grid.T[:,:-3] * grid.T[:,1:-2] * grid.T[:,2:-1] * grid.T[:,3:])\n",
    "    diagmain = np.max(grid[:-3,:-3] * grid[1:-2,1:-2] * grid[2:-1,2:-1] * grid[3:,3:])\n",
    "    diag_rev = np.max(grid[3:,:-3] * grid[2:-1,1:-2] * grid[1:-2,2:-1] * grid[:-3,3:])\n",
    "    \n",
    "    return max(horizontal,vertical,diagmain,diag_rev)\n",
    "\n",
    "grid_max()"
   ]
  }
 ],
 "metadata": {
  "kernelspec": {
   "display_name": "Python 3",
   "language": "python",
   "name": "python3"
  },
  "language_info": {
   "codemirror_mode": {
    "name": "ipython",
    "version": 3
   },
   "file_extension": ".py",
   "mimetype": "text/x-python",
   "name": "python",
   "nbconvert_exporter": "python",
   "pygments_lexer": "ipython3",
   "version": "3.6.5"
  }
 },
 "nbformat": 4,
 "nbformat_minor": 2
}
