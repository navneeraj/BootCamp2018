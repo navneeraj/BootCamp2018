{
 "cells": [
  {
   "cell_type": "markdown",
   "metadata": {},
   "source": [
    "Problem 1"
   ]
  },
  {
   "cell_type": "code",
   "execution_count": 1,
   "metadata": {},
   "outputs": [
    {
     "name": "stdout",
     "output_type": "stream",
     "text": [
      "Enter a 3-digit number where the first and last digits differ by 2 or more: 159\n",
      "Enter the reverse of the first number, obtained by reading it backwards: 951\n",
      "Enter the positive difference of these numbers: 792\n",
      "Enter the reverse of the previous result: 297\n",
      "792 + 297 = 1089 (ta-da!)\n"
     ]
    }
   ],
   "source": [
    "def arithmagic():\n",
    "    \n",
    "    step_1 = input(\"Enter a 3-digit number where the first and last digits differ by 2 or more: \")\n",
    "    if int(step_1) < 100 or int(step_1)>999:\n",
    "        raise ValueError(\"Not a 3 digit number\")\n",
    "    if abs(int(step_1[2])-int(step_1[0]))<2 :\n",
    "        raise ValueError(\"Numbers don't differ by 2 or more\")\n",
    "    step_2 = input(\"Enter the reverse of the first number, obtained by reading it backwards: \")\n",
    "    if  int(step_2[::-1]) != int(step_1):\n",
    "        raise ValueError(\"Number not reverse of Step 1 number\")\n",
    "    step_3 = input(\"Enter the positive difference of these numbers: \")\n",
    "    if  int(step_3) != abs(int(step_1) - int(step_2)):\n",
    "        raise ValueError(\"Have not entered positive difference\")\n",
    "    step_4 = input(\"Enter the reverse of the previous result: \")\n",
    "    if (step_4[::-1]) != step_3:\n",
    "        raise ValueError(\"Number not reverse of Step 3 number\")\n",
    "    print(str(step_3), \"+\", str(step_4), \"= 1089 (ta-da!)\")\n",
    "\n",
    "arithmagic()"
   ]
  },
  {
   "cell_type": "markdown",
   "metadata": {},
   "source": [
    "Problem 2"
   ]
  },
  {
   "cell_type": "code",
   "execution_count": 13,
   "metadata": {},
   "outputs": [
    {
     "name": "stdout",
     "output_type": "stream",
     "text": [
      "Process interrupted at iteration 8697404\n",
      "Value of the walk was:  -4994\n"
     ]
    },
    {
     "data": {
      "text/plain": [
       "-4994"
      ]
     },
     "execution_count": 13,
     "metadata": {},
     "output_type": "execute_result"
    }
   ],
   "source": [
    "from random import choice\n",
    "\n",
    "def random_walk(max_iters=1e12):\n",
    "    walk = 0\n",
    "    directions = [1, -1]\n",
    "    \n",
    "    try:\n",
    "        for ind, ii in enumerate(range(int(max_iters))):\n",
    "            walk += choice(directions)\n",
    "    except KeyboardInterrupt:\n",
    "        print(\"Process interrupted at iteration\", ind)\n",
    "    else:\n",
    "        print(\"Process completed.\")\n",
    "    finally:   \n",
    "        print(\"Value of the walk was: \", walk)\n",
    "        return walk\n",
    "\n",
    "random_walk()"
   ]
  }
 ],
 "metadata": {
  "kernelspec": {
   "display_name": "Python 3",
   "language": "python",
   "name": "python3"
  },
  "language_info": {
   "codemirror_mode": {
    "name": "ipython",
    "version": 3
   },
   "file_extension": ".py",
   "mimetype": "text/x-python",
   "name": "python",
   "nbconvert_exporter": "python",
   "pygments_lexer": "ipython3",
   "version": "3.6.5"
  }
 },
 "nbformat": 4,
 "nbformat_minor": 2
}
