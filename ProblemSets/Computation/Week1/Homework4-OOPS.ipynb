{
 "cells": [
  {
   "cell_type": "code",
   "execution_count": 1,
   "metadata": {},
   "outputs": [
    {
     "data": {
      "text/plain": [
       "7"
      ]
     },
     "execution_count": 1,
     "metadata": {},
     "output_type": "execute_result"
    }
   ],
   "source": [
    "# Problem 1\n",
    "def smallest_factor(n):\n",
    "    if n == 1: return 1\n",
    "    for i in range(2, int(n**.5)):\n",
    "        if n % i == 0: return i\n",
    "    return n\n",
    "\n",
    "smallest_factor(7)"
   ]
  },
  {
   "cell_type": "code",
   "execution_count": 48,
   "metadata": {},
   "outputs": [],
   "source": [
    "# Problem 2\n",
    "class Backpack:\n",
    "    \n",
    "    def __init__(self, name,color,max_size =5): # This function is the constructor.\n",
    "        self.name = name # Initialize some attributes.\n",
    "        self.color = color\n",
    "        self.max_size = 5\n",
    "        self.contents =[]\n",
    "        \n",
    "        \n",
    "    def put(self, item):\n",
    "        if len(self.contents) >=  self.max_size:\n",
    "            print(\"No Room\")\n",
    "        else:\n",
    "            self.contents.append(item) # Use 'self.contents', not just 'contents'.\n",
    "        \n",
    "    def take(self, item):\n",
    "        self.contents.remove(item)\n",
    "    \n",
    "    def  dump(self):\n",
    "        self.contents = []\n",
    "        \n",
    "    def __eq__(self, other):\n",
    "        if self.name == other.name and self.color == other.color and len(self.contents) == len(other.contents):\n",
    "            return True\n",
    "        else:\n",
    "            return False\n",
    "        \n",
    "    def __str__(self ):\n",
    "        dstring =     ((\"Owner:\\t\\t\" + str(self.name) + \n",
    "                               \"\\nColor:\\t\\t\" + str(self.color) +\n",
    "                               \"\\nSize:\\t\\t\" + str(len(self.contents)) +\n",
    "                               \"\\nMax Size:\\t\" +str(self.max_size) + \n",
    "                               \"\\nContents:\\t\" +str(self.contents)))\n",
    "        return dstring"
   ]
  },
  {
   "cell_type": "code",
   "execution_count": 49,
   "metadata": {},
   "outputs": [],
   "source": [
    "def test_backpack():\n",
    "    \"\"\"This function instantiates and analyzes a Backpack objects.\"\"\"\n",
    "    testpack = Backpack(\"Barry\", \"black\", 10) # Instantiate the object.\n",
    "    for item in [\"pencil\", \"pen\", \"paper\", \"computer\"]:\n",
    "        testpack.put(item)                # Test a method.\n",
    "    if testpack.name != \"Barry\":          # Test an attribute.\n",
    "        print(\"Backpack.name assigned incorrectly\")\n",
    "    if testpack.color != \"black\":          # Test an attribute.\n",
    "        print(\"Backpack.color assigned incorrectly\")\n",
    "    if testpack.max_size != 10:          # Test an attribute.\n",
    "        print(\"Backpack.max_size assigned incorrectly\")\n",
    "    \n",
    "    for i in testpack.contents:\n",
    "        testpack.take(i)\n",
    "    print(\"Contents: \", testpack.contents)\n",
    "    print(\"Color: \", testpack.color)\n",
    "    print(\"Maximum Size: \", testpack.max_size)\n",
    "    print(testpack)\n",
    "test_backpack()"
   ]
  },
  {
   "cell_type": "code",
   "execution_count": 25,
   "metadata": {},
   "outputs": [],
   "source": [
    "#problem 4\n",
    "class Jetpack(Backpack):\n",
    "    \n",
    "    def __init__(self, name,color,max_size =2):\n",
    "        Backpack.__init__(self,name,color,max_size)\n",
    "        self.fuel = 10\n",
    "        \n",
    "        def  fly(self, burn):\n",
    "            if burn > self.fuel:\n",
    "                print(\"Not enough fuel\")\n",
    "            else:\n",
    "                self.fuel -= burn\n",
    "                \n",
    "        def  dump(self):\n",
    "            self.contents = []\n",
    "            self.fuel = 0\n",
    "        "
   ]
  },
  {
   "cell_type": "code",
   "execution_count": 71,
   "metadata": {},
   "outputs": [],
   "source": [
    "# Problem 4\n",
    "import math\n",
    "class ComplexNumber:\n",
    "    \n",
    "    def __init__(self, a,b): # This function is the constructor.\n",
    "        self.real = a\n",
    "        self.imag = b\n",
    "        \n",
    "    def conjugate(self, ):\n",
    "        return ComplexNumber(self.real, -self.imag)\n",
    "        \n",
    "    \n",
    "    def __str__(self):\n",
    "    \n",
    "        if self.imag < 0:\n",
    "            string = str(\"(\" + str(self.real) + \"-\" + str(-self.imag) + \"j)\")\n",
    "        else:\n",
    "            string = str(\"(\" + str(self.real) + \"+\" + str(self.imag) + \"j)\")\n",
    "            \n",
    "        return string\n",
    "    \n",
    "    def __abs__(self):\n",
    "        return math.sqrt(self.real**2 + self.imag**2)\n",
    "    \n",
    "    def __eq__(self, other): \n",
    "            if self.real == other.real and self.imag == other.imag :\n",
    "                return True\n",
    "            else:\n",
    "                return False\n",
    "            \n",
    "    def __truediv__(self, other):\n",
    "        if other.real == 0 and other.imag == 0:\n",
    "            raise ZeroDivisionError(\"cannot divide by zero\")\n",
    "        else:\n",
    "            z = other.real**2 + other.imag**2\n",
    "            x = (self.real * other.real + self.imag * other.imag)\n",
    "            y = (self.imag * other.real - self.real * other.imag)\n",
    "            return ComplexNumber(x/z,y/z)\n",
    "\n",
    "    def __add__(self, other):\n",
    "        return ComplexNumber(self.real+other.real,self.imag+other.imag )\n",
    "    \n",
    "    def __sub__(self, other):\n",
    "        return ComplexNumber(self.real-other.real,self.imag-other.imag )\n",
    "\n",
    "    def __mul__(self, other):\n",
    "        return ComplexNumber(self.real*other.real+ self.imag*other.imag, (self.real*other.imag- self.imag*other.real))"
   ]
  },
  {
   "cell_type": "code",
   "execution_count": 72,
   "metadata": {},
   "outputs": [
    {
     "name": "stdout",
     "output_type": "stream",
     "text": [
      "(4+6j)\n",
      "(11+2j)\n",
      "(2.2-0.4j)\n"
     ]
    }
   ],
   "source": [
    "def test_ComplexNumber(a, b):\n",
    "    \"\"\"This function instantiates and analyzes a ComplexNumber object.\"\"\"\n",
    "    py_cnum, my_cnum = complex(a, b), ComplexNumber(a, b)\n",
    "    \n",
    "    # Validate the constructor.\n",
    "    if my_cnum.real != a or my_cnum.imag != b:\n",
    "        print(\"__init__() set self.real and self.imag incorrectly\")\n",
    "    \n",
    "    # Validate conjugate() by checking the new number's imag attribute.\n",
    "    if py_cnum.conjugate().imag != my_cnum.conjugate().imag:\n",
    "        print(\"conjugate() failed for\", py_cnum)\n",
    "    \n",
    "    # Validate __str__().\n",
    "    if str(py_cnum) != str(my_cnum):\n",
    "        print(\"__str__() failed for\", py_cnum)\n",
    "        \n",
    "    test = ComplexNumber(3, 4)\n",
    "    print(test + my_cnum)\n",
    "    print(test * my_cnum)\n",
    "    print(test / my_cnum)\n",
    "        \n",
    "test_ComplexNumber(1, 2)"
   ]
  }
 ],
 "metadata": {
  "kernelspec": {
   "display_name": "Python 3",
   "language": "python",
   "name": "python3"
  },
  "language_info": {
   "codemirror_mode": {
    "name": "ipython",
    "version": 3
   },
   "file_extension": ".py",
   "mimetype": "text/x-python",
   "name": "python",
   "nbconvert_exporter": "python",
   "pygments_lexer": "ipython3",
   "version": "3.6.5"
  }
 },
 "nbformat": 4,
 "nbformat_minor": 2
}
